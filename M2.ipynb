{
  "nbformat": 4,
  "nbformat_minor": 5,
  "metadata": {
    "kernelspec": {
      "display_name": "Python 3",
      "language": "python",
      "name": "python3"
    },
    "language_info": {
      "codemirror_mode": {
        "name": "ipython",
        "version": 3
      },
      "file_extension": ".py",
      "mimetype": "text/x-python",
      "name": "python",
      "nbconvert_exporter": "python",
      "pygments_lexer": "ipython3",
      "version": "3.8.3"
    },
    "colab": {
      "name": "Copia de M2.Actividad.ipynb",
      "provenance": [],
      "collapsed_sections": []
    }
  },
  "cells": [
    {
      "cell_type": "markdown",
      "metadata": {
        "id": "cooperative-chassis"
      },
      "source": [
        "#1"
      ],
      "id": "cooperative-chassis"
    },
    {
      "cell_type": "code",
      "metadata": {
        "id": "O9Wn5xULtMmT"
      },
      "source": [
        "# Numpy para cálculos con álgebra lineal\n",
        "import numpy as np\n",
        "import matplotlib.pyplot as plt\n",
        "import math as mt"
      ],
      "id": "O9Wn5xULtMmT",
      "execution_count": 51,
      "outputs": []
    },
    {
      "cell_type": "code",
      "metadata": {
        "id": "latter-sheep",
        "colab": {
          "base_uri": "https://localhost:8080/"
        },
        "outputId": "bc9f3224-c978-4bf8-b80b-669e5c6d5a30"
      },
      "source": [
        "def scaleMatrix(vector):\n",
        "  return np.diag([*vector, 1])\n",
        "\n",
        "def translationMatrix(vector):\n",
        "  matrix = np.identity(len(vector) + 1)\n",
        "  matrix[-1,:-1] = vector\n",
        "  return matrix.T\n",
        "\n",
        "def rotationMatrix(angle_degrees, axis='y', dim=3):\n",
        "  angle = np.deg2rad(angle_degrees)\n",
        "  ii = np.cos(angle)\n",
        "  ji = np.sin(angle)\n",
        "  matrix = np.identity(dim + 1)\n",
        "  if axis == 'z':\n",
        "    matrix[0, 0] = ii\n",
        "    matrix[1, 1] = ii\n",
        "    matrix[0, 1] = -ji\n",
        "    matrix[1, 0] = ji\n",
        "  elif axis == 'y':\n",
        "    matrix[0, 0] = ii\n",
        "    matrix[2, 2] = ii\n",
        "    matrix[0, 2] = -ji\n",
        "    matrix[2, 0] = ji\n",
        "  else:\n",
        "    matrix[1, 1] = ii\n",
        "    matrix[2, 2] = ii\n",
        "    matrix[1, 2] = -ji\n",
        "    matrix[2, 1] = ji\n",
        "  return matrix\n",
        "\n",
        "# Get the new point\n",
        "A = np.array([1, 4, -3, 1])\n",
        "C = np.array([3, -1, 4, 1])\n",
        "Q = np.matmul(scaleMatrix([1.372, 1.372, 1.372]), A)\n",
        "Q = np.matmul(translationMatrix([-2, 2, 1]), Q)\n",
        "print('Q = ', Q)\n",
        "\n",
        "Q0 = np.array([1, 0, 0, 1])\n",
        "pivot = Q\n",
        "traM = translationMatrix(pivot)\n",
        "rotM = rotationMatrix(37.2, 'y')\n",
        "\n",
        "print('Matriz de rotacion C = ', rotM)\n",
        "print('Posicion final C = ', rotM.dot(C))"
      ],
      "id": "latter-sheep",
      "execution_count": 52,
      "outputs": [
        {
          "output_type": "stream",
          "name": "stdout",
          "text": [
            "Q =  [-0.628  7.488 -3.116  1.   ]\n",
            "Matriz de rotacion C =  [[ 0.79652992  0.         -0.60459911  0.        ]\n",
            " [ 0.          1.          0.          0.        ]\n",
            " [ 0.60459911  0.          0.79652992  0.        ]\n",
            " [ 0.          0.          0.          1.        ]]\n",
            "Posicion final C =  [-0.02880671 -1.          4.99991702  1.        ]\n"
          ]
        }
      ]
    },
    {
      "cell_type": "markdown",
      "metadata": {
        "id": "cardiac-process"
      },
      "source": [
        "# 2\n"
      ],
      "id": "cardiac-process"
    },
    {
      "cell_type": "code",
      "metadata": {
        "id": "fallen-figure"
      },
      "source": [
        "a    = np.pi\n",
        "h    = ((2/3)**(1/2))*a\n",
        "D    = np.array([-2.345, -7.317, 1.328, 1])\n",
        "Vec1 = np.matmul(translationMatrix([0,-(h/2),0]), D) \n"
      ],
      "id": "fallen-figure",
      "execution_count": 53,
      "outputs": []
    },
    {
      "cell_type": "code",
      "metadata": {
        "id": "critical-spoke",
        "colab": {
          "base_uri": "https://localhost:8080/"
        },
        "outputId": "3fa533c4-f6a3-4673-aca2-ede36fce22e5"
      },
      "source": [
        "V1 = np.matmul(translationMatrix([(a/2), 0, 0]), Vec1);\n",
        "V2 = np.matmul(translationMatrix([0,(h/2),0]), D) \n",
        "V3= np.matmul(translationMatrix([-(a/2), 0, 0]), Vec1);\n",
        "\n",
        "\n",
        "hpyr=mt.sqrt((a**2)-((a/2)**2))\n",
        "print(hpyr);\n",
        "print(hpyr/4)\n",
        "V4= np.matmul(translationMatrix([0, 0, hpyr]),D)\n",
        "\n",
        "vertices = []\n",
        "vertices.append(V1)\n",
        "vertices.append(V2)\n",
        "vertices.append(V3)\n",
        "vertices.append(V4)\n",
        "\n",
        "print('Vertices:');\n",
        "print(vertices[0]);\n",
        "print(vertices[1]);\n",
        "print(vertices[2]);\n",
        "print(vertices[3]);\n",
        "vProm =[]\n",
        "\n",
        "for i in range(3):\n",
        "    acum = 0\n",
        "    acum+=V1[i]\n",
        "    acum+=V2[i]\n",
        "    acum+=V3[i]\n",
        "    acum+=V4[i]\n",
        "    acum = acum/4\n",
        "    vProm.append(acum)"
      ],
      "id": "critical-spoke",
      "execution_count": 58,
      "outputs": [
        {
          "output_type": "stream",
          "name": "stdout",
          "text": [
            "2.7206990463513265\n",
            "0.6801747615878316\n",
            "Vertices:\n",
            "[-0.77420367 -8.59954983  1.328       1.        ]\n",
            "[-2.345      -6.03445017  1.328       1.        ]\n",
            "[-3.91579633 -8.59954983  1.328       1.        ]\n",
            "[-2.345      -7.317       4.04869905  1.        ]\n"
          ]
        }
      ]
    },
    {
      "cell_type": "code",
      "metadata": {
        "id": "exclusive-delivery",
        "colab": {
          "base_uri": "https://localhost:8080/"
        },
        "outputId": "661b8faa-e28f-477b-f204-da6c2fafc9e0"
      },
      "source": [
        "\n",
        "\n",
        "pivot = vProm\n",
        "traM  = translationMatrix(pivot)\n",
        "rotM  = rotationMatrix(23, 'z')\n",
        "\n",
        "\n",
        "\n",
        "for i in range(4):\n",
        "    Qaux1 = vertices[i]\n",
        "    Qaux1 = np.matmul(np.linalg.inv(traM), Qaux1)\n",
        "    Qaux1 = np.matmul(rotM, Qaux1)\n",
        "    Qaux1 = np.matmul(traM, Qaux1)\n",
        "    print(Qaux1)\n"
      ],
      "id": "exclusive-delivery",
      "execution_count": 59,
      "outputs": [
        {
          "output_type": "stream",
          "name": "stdout",
          "text": [
            "[-0.52322525 -7.90932344  1.328       1.        ]\n",
            "[-2.97141518 -6.16189578  1.328       1.        ]\n",
            "[-3.41507654 -9.13684149  1.328       1.        ]\n",
            "[-2.47028304 -7.34248912  4.04869905  1.        ]\n"
          ]
        }
      ]
    }
  ]
}